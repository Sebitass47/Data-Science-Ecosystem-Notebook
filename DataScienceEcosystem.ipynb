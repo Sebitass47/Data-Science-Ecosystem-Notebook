{
 "cells": [
  {
   "cell_type": "markdown",
   "id": "5ba7b2d5-5bb6-4d99-a7b4-3688d136b3ed",
   "metadata": {},
   "source": [
    "# Data Science Tools and Ecosystem"
   ]
  },
  {
   "cell_type": "markdown",
   "id": "6d701a21-8611-4da8-98de-8f862cab8bf5",
   "metadata": {},
   "source": [
    "In this notebook, Data Science Tools and Ecosystem are summarized.\n"
   ]
  },
  {
   "cell_type": "markdown",
   "id": "0ca1243e-7ef3-4ff1-82e6-160ca0d59340",
   "metadata": {},
   "source": [
    "**Objectives:**\n",
    "- List popular languages of Data Science\n",
    "- List most used libraries in Data Science\n",
    "- List some of the Data Science Tools.\n",
    "- Demonstrate the use of markdown in jupyter notebooks\n",
    "- Demonstrate the use of python in jupyter notebooks"
   ]
  },
  {
   "cell_type": "markdown",
   "id": "619b683e-6a9d-422a-9341-f4f066cb6bc5",
   "metadata": {},
   "source": [
    "Some of the popular languages that Data Scientists use are:\n",
    "1. Python\n",
    "2. R\n",
    "3. SQL\n",
    "4. Java\n",
    "5. JavaScript\r\n"
   ]
  },
  {
   "cell_type": "markdown",
   "id": "71a20f1e-6a00-4415-a6e4-5cd8455335e6",
   "metadata": {},
   "source": [
    "Some of the commonly used libraries used by Data Scientists include:\n",
    "1. Pandas\n",
    "2. NumPy\n",
    "3. Matplotlib\n",
    "4. Seaborn\n",
    "5. Scikit-learn\n",
    "6. dplyr\n",
    "7. ggplot\n",
    "8. caret\r\n"
   ]
  },
  {
   "cell_type": "markdown",
   "id": "b7e1f002-75b8-4017-99df-a29d931dd20b",
   "metadata": {},
   "source": [
    "|Data Science Tools|\n",
    "--------------------\n",
    "|Jupyter Labs|\n",
    "|IBM Watson Studio|\n",
    "|Hadoop|"
   ]
  },
  {
   "cell_type": "markdown",
   "id": "19d46fc8-0820-41d9-80f3-2133f5763c22",
   "metadata": {},
   "source": [
    "### Below are a few examples of evaluating arithmetic expressions in Python.\n"
   ]
  },
  {
   "cell_type": "markdown",
   "id": "dfdbf758-5bb9-48c6-ab11-8b56601276c5",
   "metadata": {},
   "source": [
    "This a simple arithmetic expression to mutiply then add integers"
   ]
  },
  {
   "cell_type": "code",
   "execution_count": 9,
   "id": "822fbee5-f86d-414b-91bc-0640a4b40845",
   "metadata": {},
   "outputs": [
    {
     "data": {
      "text/plain": [
       "17"
      ]
     },
     "execution_count": 9,
     "metadata": {},
     "output_type": "execute_result"
    }
   ],
   "source": [
    "(3*4)+5"
   ]
  },
  {
   "cell_type": "markdown",
   "id": "50d5d689-5885-4c45-be7c-892506907714",
   "metadata": {},
   "source": [
    "This will convert 200 minutes to hours by diving by 60"
   ]
  },
  {
   "cell_type": "code",
   "execution_count": 12,
   "id": "a91d5ee0-7b8e-4090-a837-7e6cc94c1600",
   "metadata": {},
   "outputs": [
    {
     "data": {
      "text/plain": [
       "3.3333333333333335"
      ]
     },
     "execution_count": 12,
     "metadata": {},
     "output_type": "execute_result"
    }
   ],
   "source": [
    "200/60"
   ]
  },
  {
   "cell_type": "markdown",
   "id": "b28a7165-f2f3-4114-9ee8-f0ac5561237a",
   "metadata": {},
   "source": [
    "## Author\n",
    "Sebastián Martínez de la Rosa"
   ]
  }
 ],
 "metadata": {
  "kernelspec": {
   "display_name": "Python 3 (ipykernel)",
   "language": "python",
   "name": "python3"
  },
  "language_info": {
   "codemirror_mode": {
    "name": "ipython",
    "version": 3
   },
   "file_extension": ".py",
   "mimetype": "text/x-python",
   "name": "python",
   "nbconvert_exporter": "python",
   "pygments_lexer": "ipython3",
   "version": "3.12.4"
  }
 },
 "nbformat": 4,
 "nbformat_minor": 5
}
